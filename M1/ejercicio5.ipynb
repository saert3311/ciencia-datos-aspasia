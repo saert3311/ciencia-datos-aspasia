{
 "cells": [
  {
   "attachments": {},
   "cell_type": "markdown",
   "metadata": {},
   "source": [
    "Para el siguientes ejemplo, proporcione la(s) excepción(es) adecuada(s):\n",
    "\n",
    "`a = 10\n",
    " b = 0\n",
    " c = a / b`\n",
    "\n",
    " 2. Con el ejercicio anterior, cree un programa que le pida ingresar los\n",
    "valores al usuario."
   ]
  },
  {
   "cell_type": "code",
   "execution_count": 2,
   "metadata": {},
   "outputs": [
    {
     "name": "stdout",
     "output_type": "stream",
     "text": [
      "No puedes dividir entre 0\n"
     ]
    }
   ],
   "source": [
    "def division(a: int,b: int) -> int:\n",
    "    try:\n",
    "        return a / b\n",
    "    except ZeroDivisionError:\n",
    "        return 'No puedes dividir entre 0'\n",
    "\n",
    "\n",
    "valor1 = int(input('Introduce un valor\\n'))\n",
    "valor2 = int(input('Introduce valor para dividirlo:\\n'))\n",
    "\n",
    "print(division(valor1, valor2))"
   ]
  },
  {
   "attachments": {},
   "cell_type": "markdown",
   "metadata": {},
   "source": [
    "3. Cree una función de interés simple, entregando una excepción si la tasa\n",
    "es superior a 100.\n",
    "\n",
    "● El programa debe recibir: monto, año y tasa.\n",
    "● El cálculo de i nt er és será: (monto * año * tasa) / 100\n",
    "● Agregue mensajes adecuados al contexto, para la interacción del\n",
    "programa."
   ]
  },
  {
   "cell_type": "code",
   "execution_count": 7,
   "metadata": {},
   "outputs": [
    {
     "name": "stdout",
     "output_type": "stream",
     "text": [
      "La tasa no puede ser mayor que 100\n"
     ]
    }
   ],
   "source": [
    "def calcular_interes(monto: int, ano: int, tasa: int) -> int:\n",
    "    if tasa > 100:\n",
    "        raise Exception('La tasa no puede ser mayor que 100')\n",
    "    return (monto * ano * tasa ) / 100\n",
    "\n",
    "\n",
    "def funcion_interes() -> None:\n",
    "    #hagamoslo interesante\n",
    "    datos ={\n",
    "        'monto':'',\n",
    "        'ano':'',\n",
    "        'tasa':''\n",
    "    }\n",
    "    for key in datos.keys():\n",
    "        datos[key] = int(input(f'Introduce el {key}'))   \n",
    "    try:\n",
    "        print(calcular_interes(**datos)) \n",
    "    except Exception as e:\n",
    "        print(e)\n",
    "\n",
    "funcion_interes()"
   ]
  }
 ],
 "metadata": {
  "kernelspec": {
   "display_name": "Python 3",
   "language": "python",
   "name": "python3"
  },
  "language_info": {
   "codemirror_mode": {
    "name": "ipython",
    "version": 3
   },
   "file_extension": ".py",
   "mimetype": "text/x-python",
   "name": "python",
   "nbconvert_exporter": "python",
   "pygments_lexer": "ipython3",
   "version": "3.10.10"
  },
  "orig_nbformat": 4
 },
 "nbformat": 4,
 "nbformat_minor": 2
}
