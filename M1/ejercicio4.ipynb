{
 "cells": [
  {
   "attachments": {},
   "cell_type": "markdown",
   "metadata": {},
   "source": [
    "1. Cree una clase llamada Individuo . Sus atributos son:\n",
    "PrimerNombre, Edad y RUT. Construye los siguientes métodos para\n",
    "la clase:\n",
    "● Un constructor, donde los datos pueden estar vacíos.\n",
    "● Los setters y getters para cada uno de los atributos. Hay que\n",
    "validar las entradas de datos.\n",
    "● r evel ar ( ) : Revela la información de la persona.\n",
    "● Adul t o ( ) : Entrega un valor lógico sí es o no adulto (mayor de\n",
    "18 años)."
   ]
  },
  {
   "cell_type": "code",
   "execution_count": null,
   "metadata": {},
   "outputs": [],
   "source": [
    "import re\n",
    "\n",
    "class Individuo:\n",
    "    \"\"\"\n",
    "        Clase que representa un Individuo\n",
    "    \"\"\"\n",
    "    PATRON = r\"\\b(\\d{1,3}(?:(\\.?)\\d{3}){2}(-?)[\\dkK])\\b\"gm\n",
    "\n",
    "    def __init__(self, primer_nombre='', edad=None, rut=None):\n",
    "        self.__primer_nombre = primer_nombre\n",
    "        self.__edad = int(edad)\n",
    "        self.__rut = rut\n",
    "\n",
    "    def get_nombre(self):\n",
    "        return self.__primer_nombre\n",
    "\n",
    "    def get_edad(self):\n",
    "        return self.__edad\n",
    "\n",
    "    def set_nombre(self, nombre):\n",
    "        \"\"\"Metodo para actualizar el nombre\n",
    "\n",
    "        Args:\n",
    "            nombre (string): Actualizar el nombre de la instancia\n",
    "\n",
    "        Raises:\n",
    "            Exception: Si el argumento esta vacio\n",
    "        \"\"\"\n",
    "        if bool(nombre):\n",
    "            self.__primer_nombre = nombre\n",
    "        else:\n",
    "            raise Exception('Nombre no puede estar vacio')\n",
    "    \n",
    "    def set_edad(self, edad):\n",
    "        \"\"\"Metodo para actualizar la edad del individuo\n",
    "\n",
    "        Args:\n",
    "            edad (int): Numero entero que representara la edad\n",
    "        \"\"\"\n",
    "        try:\n",
    "            self.edad = int(edad)\n",
    "        except ValueError:\n",
    "            print('No es una edad valida')\n",
    "\n",
    "    def set_rut(self, rut):\n",
    "        \"\"\"Metodo para setear nuevo rut validado con el formato\n",
    "\n",
    "        Args:\n",
    "            rut (str): Rut con o sin puntos y guion\n",
    "        \"\"\"\n",
    "        if re.match(self.PATRON, rut):\n",
    "            self.__rut = rut\n",
    "        \n"
   ]
  }
 ],
 "metadata": {
  "language_info": {
   "name": "python"
  },
  "orig_nbformat": 4
 },
 "nbformat": 4,
 "nbformat_minor": 2
}
