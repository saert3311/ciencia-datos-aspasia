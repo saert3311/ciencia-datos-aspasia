{
 "cells": [
  {
   "cell_type": "code",
   "execution_count": 1,
   "id": "dd7c1c53",
   "metadata": {},
   "outputs": [
    {
     "name": "stdout",
     "output_type": "stream",
     "text": [
      "Hola Mundo!\n"
     ]
    }
   ],
   "source": [
    "\"\"\"\n",
    "Escribir un programa que almacene la cadena ¡Hola Mundo! en una\n",
    "variable y luego muestre por pantalla el contenido de la variable.\n",
    "\"\"\"\n",
    "cadena_texto = 'Hola Mundo!'\n",
    "print(cadena_texto)"
   ]
  },
  {
   "cell_type": "code",
   "execution_count": 1,
   "id": "94a1ba8a",
   "metadata": {},
   "outputs": [
    {
     "name": "stdout",
     "output_type": "stream",
     "text": [
      "Ingrese el numero de horas trabajadas: \n",
      "10\n",
      "Ingrese Pago por hora: \n",
      "5\n",
      "El total de horas trabajadas es: 50\n"
     ]
    }
   ],
   "source": [
    "\"\"\"\n",
    "Escribir un programa que pregunte al usuario por el número de horas\n",
    "trabajadas y el pago por hora. Después debe mostrar por pantalla el\n",
    "pago que le corresponde.\n",
    "\"\"\"\n",
    "try:\n",
    "    horas_trabajadas = int(input('Ingrese el numero de horas trabajadas: \\n'))\n",
    "    pago_hora = int(input('Ingrese Pago por hora: \\n'))\n",
    "    total = horas_trabajadas * pago_hora\n",
    "    print(f'El total de horas trabajadas es: {total}')\n",
    "except ValueError:\n",
    "    print('Este valor no es un numero')"
   ]
  },
  {
   "cell_type": "code",
   "execution_count": 4,
   "id": "bec88165",
   "metadata": {},
   "outputs": [
    {
     "name": "stdout",
     "output_type": "stream",
     "text": [
      "El kg de pan fresco es: 1200$\n",
      "El kg con descuento tiene un costo de 720.0 $\n",
      "El costo final es de: 7200.0 $\n"
     ]
    }
   ],
   "source": [
    "\"\"\"\n",
    "Una panadería vende el pan a $1200 cada Kg. El pan que no es el día\n",
    "tiene un descuento del 60%. Escribe un programa que comience\n",
    "leyendo el número de Kilos vendidos que no son del día. Después tu\n",
    "programa debe mostrar el precio habitual del kilo de pan, el descuento\n",
    "que se le hace por no ser fresco y el costo final total.\n",
    "\"\"\"\n",
    "PRECIO_KILO = 1200\n",
    "DESCUENTO = 60\n",
    "kilo_descuento = 1200 * 0.6\n",
    "\n",
    "kilos_ayer = int(input('Cuantos kilos vendidos son del dia anterior? \\n'))\n",
    "\n",
    "total = kilos_ayer * kilo_descuento\n",
    "\n",
    "print(f'El kg de pan fresco es: {PRECIO_KILO}$\\nEl kg con descuento tiene un costo de {kilo_descuento} $\\nEl costo final es de: {total} $')\n",
    "\n",
    "\n"
   ]
  },
  {
   "cell_type": "code",
   "execution_count": 25,
   "id": "a1f8834d",
   "metadata": {},
   "outputs": [
    {
     "name": "stdout",
     "output_type": "stream",
     "text": [
      "El sueldo aplica aumento, el total a pagar: 11500.0\n"
     ]
    }
   ],
   "source": [
    "\"\"\"\n",
    "Dado el sueldo de un trabajador, aplique un aumento del 15% si su\n",
    "sueldo es inferior a $200.000. Imprima el resultado.\n",
    "\"\"\"\n",
    "try:\n",
    "    sueldo_trabajador = int(input('Ingrese el sueldo del trabajador:\\n'))\n",
    "    if sueldo_trabajador < 200000:\n",
    "        total\n",
    "        print(f'El sueldo aplica aumento, el total a pagar: {((sueldo_trabajador*0.15)+sueldo_trabajador)}')\n",
    "    else:\n",
    "        print(f'El sueldo no aplica descuento el total a pagar: {sueldo_trabajador}')\n",
    "except ValueError:\n",
    "    print('Este valor no es un numero')"
   ]
  },
  {
   "cell_type": "code",
   "execution_count": 28,
   "id": "055ca0bb",
   "metadata": {},
   "outputs": [
    {
     "name": "stdout",
     "output_type": "stream",
     "text": [
      "El resultado de la inversion es: 110.0$\n"
     ]
    }
   ],
   "source": [
    "\"\"\"\n",
    "Se coloca un capital C, a un interés I (que oscila entre 0 y 100), durante\n",
    "M años y se desea saber en cuánto se habrá convertido ese capital en\n",
    "“M” años, sabiendo que es acumulativo.\n",
    "\"\"\"\n",
    "try:\n",
    "    capital = float(input('Ingrese el capital:\\n'))\n",
    "    interes = float(input('Ingrese el porcentaje de interes:\\n'))\n",
    "    anos = int(input('Ingrese tiempo inversion en años:\\n'))\n",
    "\n",
    "    total = capital * (1 + (interes/100)) ** anos\n",
    "    total_redondeado = round(total, 2)\n",
    "\n",
    "    print(f'El resultado de la inversion es: {total_redondeado}$')\n",
    "except ValueError:\n",
    "    print('Este valor no es un numero')"
   ]
  },
  {
   "cell_type": "code",
   "execution_count": 29,
   "id": "b87f9fe7",
   "metadata": {},
   "outputs": [
    {
     "name": "stdout",
     "output_type": "stream",
     "text": [
      "123 multiplicado por 10 daria por resultado 1230\n"
     ]
    }
   ],
   "source": [
    "\"\"\"\n",
    "Escriba una función que muestre por pantalla el resultado de multiplicar\n",
    "un número por 10.\n",
    "\"\"\"\n",
    "try:\n",
    "    valor = int(input('Ingrese valor a multiplicar:\\n'))\n",
    "    print(f'{valor} multiplicado por 10 daria por resultado {valor*10}')\n",
    "except ValueError:\n",
    "    print('Este valor no es un numero')"
   ]
  },
  {
   "cell_type": "code",
   "execution_count": 33,
   "id": "3e40f4bf",
   "metadata": {},
   "outputs": [
    {
     "name": "stdout",
     "output_type": "stream",
     "text": [
      "********\n",
      "********\n",
      "********\n",
      "********\n"
     ]
    }
   ],
   "source": [
    "\"\"\"\n",
    "Desarrolle un programa que pida la anchura y altura de un rectángulo y\n",
    "lo dibuje con caracteres producto (*)\n",
    "\"\"\"\n",
    "try:\n",
    "    anchura = int(input('Ingresa anchura: \\n'))\n",
    "    altura = int(input('Ingresa altura: \\n'))\n",
    "except ValueError:\n",
    "    print('Este valor no es un numero')\n",
    "\n",
    "for row in range(altura):\n",
    "    print(''.ljust(anchura, '*'))"
   ]
  },
  {
   "cell_type": "code",
   "execution_count": 37,
   "id": "aded2ce1",
   "metadata": {},
   "outputs": [
    {
     "name": "stdout",
     "output_type": "stream",
     "text": [
      "sum([1,2,3,4]) es igual a 10\n",
      "multip([1,2,3,4]) es igual a 24\n"
     ]
    }
   ],
   "source": [
    "\"\"\"\n",
    "Escribir una función sum() y una función multip() que sumen y\n",
    "multipliquen respectivamente todos los números de una lista. Por\n",
    "ejemplo: sum([1,2,3,4]) debería devolver 10 y\n",
    "multip([1,2,3,4]) debería devolver 24.\n",
    "\"\"\"\n",
    "def sum(numbers: list) -> int:\n",
    "    accum = 0\n",
    "    for i in numbers:\n",
    "        accum+=i\n",
    "\n",
    "    return accum\n",
    "\n",
    "def multip(numbers: list) -> int: #vamos a hacer la funcion sin usar librerias \n",
    "    accum = 0\n",
    "    for idx, number in enumerate(numbers):\n",
    "        if idx == 0: #con esto evitamos que nos quede en cero el valor inicial\n",
    "            accum += number\n",
    "            continue\n",
    "        accum = (accum * number)\n",
    "    return accum\n",
    "\n",
    "print(f'sum([1,2,3,4]) es igual a {sum([1,2,3,4])}')\n",
    "print(f'multip([1,2,3,4]) es igual a {multip([1,2,3,4])}')"
   ]
  },
  {
   "cell_type": "code",
   "execution_count": 38,
   "id": "a543c1f5",
   "metadata": {},
   "outputs": [
    {
     "name": "stdout",
     "output_type": "stream",
     "text": [
      "[1,2,3] es igual a 123\n"
     ]
    }
   ],
   "source": [
    "\"\"\"\n",
    "Crear una función que tome una lista de dígitos y devuelva al número al\n",
    "que corresponden. Por ejemplo [1,2,3] corresponde a el número\n",
    "ciento veintitrés (123) . (Puede utilizar la función reduce())\n",
    "\"\"\"\n",
    "def juntar(digits: list) -> int:\n",
    "    string = ''\n",
    "    for digit in digits:\n",
    "        string += str(digit)\n",
    "    return int(string) \n",
    "\n",
    "print(f'[1,2,3] es igual a {juntar([1,2,3])}')"
   ]
  }
 ],
 "metadata": {
  "kernelspec": {
   "display_name": "Python 3 (ipykernel)",
   "language": "python",
   "name": "python3"
  },
  "language_info": {
   "codemirror_mode": {
    "name": "ipython",
    "version": 3
   },
   "file_extension": ".py",
   "mimetype": "text/x-python",
   "name": "python",
   "nbconvert_exporter": "python",
   "pygments_lexer": "ipython3",
   "version": "3.10.10"
  }
 },
 "nbformat": 4,
 "nbformat_minor": 5
}
