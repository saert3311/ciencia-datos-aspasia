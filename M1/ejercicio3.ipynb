{
 "cells": [
  {
   "attachments": {},
   "cell_type": "markdown",
   "metadata": {},
   "source": [
    "1. Dada la lista \n",
    "2. \n",
    "`L = [\"almacenar\", 8, \"a\", [1,2,3], True, (0,0,1), 85.7]`\n",
    "\n",
    "a. ¿Cuál de estos elementos pertenece a ella?\n",
    "85.7\n",
    "True\n",
    "[(0,0,1)]\n",
    "[1,2,3]\n",
    "0\n",
    "[True]\n",
    "85\n",
    "\"a\"\n",
    "\n",
    "b. ¿Cómo obtener la posición en que se encuentra el elemento\n",
    "(0,0,1)?\n",
    "\n",
    "c. ¿Cómo eliminar el último elemento, independientemente de\n",
    "cuántos elementos haya en la lista?\n",
    "\n",
    "d. Utilizar una operación para contar cuántas veces aparece el string\n",
    "“a”. ¿Cuál será el resultado?"
   ]
  },
  {
   "cell_type": "code",
   "execution_count": 4,
   "metadata": {},
   "outputs": [
    {
     "name": "stdout",
     "output_type": "stream",
     "text": [
      "85.7 existe en la lista\n",
      "(0, 0, 1) existe en la lista\n",
      "[(0, 0, 1)] no existe en la lista\n",
      "0 no existe en la lista\n",
      "[True] no existe en la lista\n",
      "85 no existe en la lista\n",
      "a existe en la lista\n",
      "--- Punto B ---\n",
      "El elemento (0,0,1) se encuentra en el indice 5\n",
      "--- Bloque C ---\n",
      "Lista antes de pop: ['almacenar', 8, 'a', [1, 2, 3], True, (0, 0, 1), 85.7]\n",
      "Lista despues de pop: ['almacenar', 8, 'a', [1, 2, 3], True, (0, 0, 1)]\n",
      "--- Bloque D ---\n",
      "\"a\" aparece 1 vez en la lista\n"
     ]
    }
   ],
   "source": [
    "L = [\"almacenar\", 8, \"a\", [1,2,3], True, (0,0,1), 85.7]\n",
    "\n",
    "#punto a\n",
    "def existe(buscar: str, lista) -> str:\n",
    "    if buscar in lista:\n",
    "        return f'{buscar} existe en la lista'\n",
    "    return f'{buscar} no existe en la lista'\n",
    "\n",
    "print(existe(85.7, L))\n",
    "print(existe((0,0,1), L))\n",
    "print(existe([(0,0,1)], L))\n",
    "print(existe(0, L))\n",
    "print(existe([True], L))\n",
    "print(existe(85, L))\n",
    "print(existe(\"a\", L))\n",
    "print('--- Punto B ---')\n",
    "#Las listas en python tienen un metodo index que nos devuelve el indice de la primera coincidencia\n",
    "print(f'El elemento (0,0,1) se encuentra en el indice {L.index((0,0,1))}')\n",
    "print('--- Bloque C ---')\n",
    "#Usamos el metodo pop para eliminar el ultimo elemento de una lista\n",
    "print(f'Lista antes de pop: {L}')\n",
    "L.pop()\n",
    "print(f'Lista despues de pop: {L}')\n",
    "print('--- Bloque D ---')\n",
    "#creamos una funcion para contar las coincidencias\n",
    "def contador_coincidencias(buscar, lista):\n",
    "    #usamos comprension de listas para filtrar los valores y despues devolver el length del resultado\n",
    "    return len([element for element in lista if element == buscar])\n",
    "\n",
    "print(f'\"a\" aparece {contador_coincidencias(\"a\", L)} {(\"vez\" if contador_coincidencias(\"a\", L) == 1 else \"veces\")} en la lista')"
   ]
  },
  {
   "attachments": {},
   "cell_type": "markdown",
   "metadata": {},
   "source": [
    "Escribir un programa que pida al usuario una palabra y muestre por pantalla si es un palíndromo."
   ]
  },
  {
   "cell_type": "code",
   "execution_count": 21,
   "metadata": {},
   "outputs": [
    {
     "name": "stdout",
     "output_type": "stream",
     "text": [
      "La palabra \"sometemos\" es un palindromo\n"
     ]
    }
   ],
   "source": [
    "palabra = input('Introduce tu palabra para saber si es palindromo:\\n')\n",
    "mitad = len(palabra)/2 if len(palabra) % 2 == 0 else (len(palabra)/2) -1 #buscamos partir la palabra a la mitad para saber hasta donde comparar\n",
    "volteado = palabra[::-1]\n",
    "for idx, (normal, alreves) in enumerate(zip(palabra, volteado)):\n",
    "    if idx > mitad: #si entramos aqui es que llegamos a la mitad y nunca rompimos el ciclo por lo tanto es un palindromo\n",
    "        print(f'La palabra \"{palabra}\" es un palindromo')\n",
    "        break\n",
    "    if normal != alreves: # si entramoms aqui quiere decir que es una letra distinta y rompemos el ciclo y declaramos que no es\n",
    "        print(f'La palabra \"{palabra}\" no es un palindromo')\n",
    "        break\n",
    "\n",
    "    \n"
   ]
  },
  {
   "attachments": {},
   "cell_type": "markdown",
   "metadata": {},
   "source": [
    "Escribir un programa que almacene en una lista los números del 1 al 10,\n",
    "y los muestre por pantalla en orden inverso separados por comas."
   ]
  },
  {
   "cell_type": "code",
   "execution_count": 12,
   "metadata": {},
   "outputs": [
    {
     "name": "stdout",
     "output_type": "stream",
     "text": [
      "10,9,8,7,6,5,4,3,2,1\n"
     ]
    }
   ],
   "source": [
    "def mi_contador(lista: list) -> None:\n",
    "    volteado = lista[::-1]\n",
    "    for idx, digit in enumerate(volteado):\n",
    "        if idx == (len(volteado)-1):\n",
    "            print(digit)\n",
    "        else:\n",
    "            print(digit, end=',')\n",
    "\n",
    "una_lista = list(range(1,11))\n",
    "\n",
    "mi_contador(una_lista)"
   ]
  },
  {
   "attachments": {},
   "cell_type": "markdown",
   "metadata": {},
   "source": [
    "Escribir un programa que almacene las asignaturas de un curso (por\n",
    "ejemplo Matemáticas, Física, Química, Historia y Lengua) en una lista,\n",
    "pregunte al usuario la nota que ha sacado en cada asignatura, y después\n",
    "las muestre por pantalla con el mensaje En <asignatura> has sacado\n",
    "<nota> donde <asignatura> es cada una de las asignaturas de la lista\n",
    "y <nota> cada una de las correspondientes notas introducidas por el\n",
    "usuario."
   ]
  },
  {
   "cell_type": "code",
   "execution_count": 18,
   "metadata": {},
   "outputs": [
    {
     "name": "stdout",
     "output_type": "stream",
     "text": [
      "En Matematica has sacado 10\n",
      "En Castellano has sacado 5\n",
      "En Fisica has sacado 4\n"
     ]
    }
   ],
   "source": [
    "def asignaturas() -> None:\n",
    "    asignaturas = {}\n",
    "    while True:\n",
    "        nueva_asignatura = input('Introduce el nombre de la asignatura:\\n')\n",
    "        asignaturas[nueva_asignatura] = 0\n",
    "        desicion = input('Deseas añadir otra asignatura? S/N\\n')\n",
    "        if desicion.lower() == 's':\n",
    "            continue\n",
    "        elif desicion.lower() == 'n':\n",
    "            break\n",
    "        else:\n",
    "            print('Opcion errada') #Seria genial una opcion de forzar a una valida\n",
    "    for asignatura in asignaturas.keys():\n",
    "        asignaturas[asignatura] = input(f'Introduce la nota de {asignatura}:\\n')\n",
    "    for asignatura in asignaturas.keys():\n",
    "        print(f'En {asignatura} has sacado {asignaturas[asignatura]}')\n",
    "\n",
    "asignaturas()\n",
    "        "
   ]
  }
 ],
 "metadata": {
  "kernelspec": {
   "display_name": "Python 3",
   "language": "python",
   "name": "python3"
  },
  "language_info": {
   "codemirror_mode": {
    "name": "ipython",
    "version": 3
   },
   "file_extension": ".py",
   "mimetype": "text/x-python",
   "name": "python",
   "nbconvert_exporter": "python",
   "pygments_lexer": "ipython3",
   "version": "3.10.10"
  },
  "orig_nbformat": 4
 },
 "nbformat": 4,
 "nbformat_minor": 2
}
