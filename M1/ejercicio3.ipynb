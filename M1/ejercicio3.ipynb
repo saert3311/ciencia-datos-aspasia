{
 "cells": [
  {
   "attachments": {},
   "cell_type": "markdown",
   "metadata": {},
   "source": [
    "1. Dada la lista \n",
    "2. \n",
    "`L = [\"almacenar\", 8, \"a\", [1,2,3], True, (0,0,1), 85.7]`\n",
    "\n",
    "a. ¿Cuál de estos elementos pertenece a ella?\n",
    "85.7\n",
    "True\n",
    "[(0,0,1)]\n",
    "[1,2,3]\n",
    "0\n",
    "[True]\n",
    "85\n",
    "\"a\"\n",
    "\n",
    "b. ¿Cómo obtener la posición en que se encuentra el elemento\n",
    "(0,0,1)?\n",
    "\n",
    "c. ¿Cómo eliminar el último elemento, independientemente de\n",
    "cuántos elementos haya en la lista?\n",
    "\n",
    "d. Utilizar una operación para contar cuántas veces aparece el string\n",
    "“a”. ¿Cuál será el resultado?"
   ]
  },
  {
   "cell_type": "code",
   "execution_count": 4,
   "metadata": {},
   "outputs": [
    {
     "name": "stdout",
     "output_type": "stream",
     "text": [
      "85.7 existe en la lista\n",
      "(0, 0, 1) existe en la lista\n",
      "[(0, 0, 1)] no existe en la lista\n",
      "0 no existe en la lista\n",
      "[True] no existe en la lista\n",
      "85 no existe en la lista\n",
      "a existe en la lista\n",
      "--- Punto B ---\n",
      "El elemento (0,0,1) se encuentra en el indice 5\n",
      "--- Bloque C ---\n",
      "Lista antes de pop: ['almacenar', 8, 'a', [1, 2, 3], True, (0, 0, 1), 85.7]\n",
      "Lista despues de pop: ['almacenar', 8, 'a', [1, 2, 3], True, (0, 0, 1)]\n",
      "--- Bloque D ---\n",
      "\"a\" aparece 1 vez en la lista\n"
     ]
    }
   ],
   "source": [
    "L = [\"almacenar\", 8, \"a\", [1,2,3], True, (0,0,1), 85.7]\n",
    "\n",
    "#punto a\n",
    "def existe(buscar: str, lista) -> str:\n",
    "    if buscar in lista:\n",
    "        return f'{buscar} existe en la lista'\n",
    "    return f'{buscar} no existe en la lista'\n",
    "\n",
    "print(existe(85.7, L))\n",
    "print(existe((0,0,1), L))\n",
    "print(existe([(0,0,1)], L))\n",
    "print(existe(0, L))\n",
    "print(existe([True], L))\n",
    "print(existe(85, L))\n",
    "print(existe(\"a\", L))\n",
    "print('--- Punto B ---')\n",
    "#Las listas en python tienen un metodo index que nos devuelve el indice de la primera coincidencia\n",
    "print(f'El elemento (0,0,1) se encuentra en el indice {L.index((0,0,1))}')\n",
    "print('--- Bloque C ---')\n",
    "#Usamos el metodo pop para eliminar el ultimo elemento de una lista\n",
    "print(f'Lista antes de pop: {L}')\n",
    "L.pop()\n",
    "print(f'Lista despues de pop: {L}')\n",
    "print('--- Bloque D ---')\n",
    "#creamos una funcion para contar las coincidencias\n",
    "def contador_coincidencias(buscar, lista):\n",
    "    #usamos comprension de listas para filtrar los valores y despues devolver el length del resultado\n",
    "    return len([element for element in lista if element == buscar])\n",
    "\n",
    "print(f'\"a\" aparece {contador_coincidencias(\"a\", L)} {(\"vez\" if contador_coincidencias(\"a\", L) == 1 else \"veces\")} en la lista')"
   ]
  },
  {
   "attachments": {},
   "cell_type": "markdown",
   "metadata": {},
   "source": [
    "Escribir un programa que pida al usuario una palabra y muestre por pantalla si es un palíndromo."
   ]
  },
  {
   "cell_type": "code",
   "execution_count": 21,
   "metadata": {},
   "outputs": [
    {
     "name": "stdout",
     "output_type": "stream",
     "text": [
      "La palabra \"sometemos\" es un palindromo\n"
     ]
    }
   ],
   "source": [
    "palabra = input('Introduce tu palabra para saber si es palindromo:\\n')\n",
    "mitad = len(palabra)/2 if len(palabra) % 2 == 0 else (len(palabra)/2) -1 #buscamos partir la palabra a la mitad para saber hasta donde comparar\n",
    "volteado = palabra[::-1]\n",
    "for idx, (normal, alreves) in enumerate(zip(palabra, volteado)):\n",
    "    if idx > mitad: #si entramos aqui es que llegamos a la mitad y nunca rompimos el ciclo por lo tanto es un palindromo\n",
    "        print(f'La palabra \"{palabra}\" es un palindromo')\n",
    "        break\n",
    "    if normal != alreves: # si entramoms aqui quiere decir que es una letra distinta y rompemos el ciclo y declaramos que no es\n",
    "        print(f'La palabra \"{palabra}\" no es un palindromo')\n",
    "        break\n",
    "\n",
    "    \n"
   ]
  }
 ],
 "metadata": {
  "kernelspec": {
   "display_name": "Python 3",
   "language": "python",
   "name": "python3"
  },
  "language_info": {
   "codemirror_mode": {
    "name": "ipython",
    "version": 3
   },
   "file_extension": ".py",
   "mimetype": "text/x-python",
   "name": "python",
   "nbconvert_exporter": "python",
   "pygments_lexer": "ipython3",
   "version": "3.10.10"
  },
  "orig_nbformat": 4
 },
 "nbformat": 4,
 "nbformat_minor": 2
}
