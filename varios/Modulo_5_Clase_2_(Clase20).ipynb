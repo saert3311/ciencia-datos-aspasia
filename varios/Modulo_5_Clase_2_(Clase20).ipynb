{
 "cells": [
  {
   "cell_type": "code",
   "execution_count": null,
   "id": "bcfd880c-f508-4a4a-9c44-4a57f5db37e6",
   "metadata": {},
   "outputs": [],
   "source": [
    "!pip install statsmodels"
   ]
  },
  {
   "cell_type": "code",
   "execution_count": null,
   "id": "67b95523-ec4c-4de1-86d9-358be0927be2",
   "metadata": {},
   "outputs": [],
   "source": [
    "import pandas as pd\n",
    "\n",
    "## Este proporciona funciones para la estimación de muchos modelos estadísticos\n",
    "import statsmodels.api as sm \n",
    "\n",
    "## Permite ajustar modelos estadísticos utilizando fórmulas de estilo R\n",
    "import statsmodels.formula.api as smf"
   ]
  },
  {
   "cell_type": "code",
   "execution_count": null,
   "id": "9d3d590c-d122-45df-a667-00f77edb3b09",
   "metadata": {},
   "outputs": [],
   "source": [
    "file = 'https://raw.githubusercontent.com/fhernanb/Python-para-estadistica/master/03%20Regression/Regresi%C3%B3n%20lineal%20m%C3%BAltiple/softdrink.csv'\n",
    "dt = pd.read_csv(file)\n",
    "dt.head(11)"
   ]
  },
  {
   "cell_type": "code",
   "execution_count": null,
   "id": "ed1130aa-0d90-4076-8112-9ba902b91570",
   "metadata": {},
   "outputs": [],
   "source": [
    "import matplotlib.pyplot as plt\n",
    "from mpl_toolkits.mplot3d import Axes3D # Permite agregar eje tridimensionales\n",
    "import random # Permiten obtener de distintos modos números aleatorios\n",
    "\n",
    "fig = plt.figure(figsize=(8, 6))\n",
    "ax = fig.add_subplot(111, projection='3d')\n",
    "\n",
    "x1 = dt[\"x1\"] # Datos eje X\n",
    "x2 = dt[\"x2\"] # Datos eje Y\n",
    "y = dt[\"y\"] # Datos eje Z (Var. Respuesta)\n",
    "\n",
    "ax.scatter(x1, x2, y, marker='*', c='r')\n",
    "ax.set_xlabel('Cantidad de cajas') # Etiqueta del eje X\n",
    "ax.set_ylabel('Distancia (metros)') # Etiqueta del eje Y\n",
    "ax.set_zlabel('Tiempo (minutos)'); # Etiqueta del eje Z\n",
    "\n",
    "plt.show()"
   ]
  },
  {
   "cell_type": "code",
   "execution_count": null,
   "id": "45d92ffa-f5c7-49dc-89a7-4bad466606a0",
   "metadata": {},
   "outputs": [],
   "source": [
    "mod = smf.ols('y ~ x1 + x2', data=dt).fit() \n",
    "# Ajusta el modelo usando el registro natural de uno de los regresores\n",
    "print(mod.summary())"
   ]
  },
  {
   "cell_type": "code",
   "execution_count": null,
   "id": "a0cc8cbd-c360-4fe0-831f-2351b4d49f84",
   "metadata": {},
   "outputs": [],
   "source": [
    "mod.params"
   ]
  },
  {
   "cell_type": "code",
   "execution_count": null,
   "id": "1442b5a3-4ebb-4303-b8d7-b43dcff08779",
   "metadata": {},
   "outputs": [],
   "source": [
    "mod.mse_resid"
   ]
  },
  {
   "cell_type": "code",
   "execution_count": null,
   "id": "d19d3e07-e7ee-447f-8800-a2367f7db083",
   "metadata": {},
   "outputs": [],
   "source": []
  }
 ],
 "metadata": {
  "kernelspec": {
   "display_name": "Python 3 (ipykernel)",
   "language": "python",
   "name": "python3"
  },
  "language_info": {
   "codemirror_mode": {
    "name": "ipython",
    "version": 3
   },
   "file_extension": ".py",
   "mimetype": "text/x-python",
   "name": "python",
   "nbconvert_exporter": "python",
   "pygments_lexer": "ipython3",
   "version": "3.11.2"
  }
 },
 "nbformat": 4,
 "nbformat_minor": 5
}
