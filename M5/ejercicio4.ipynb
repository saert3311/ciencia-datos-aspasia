{
 "cells": [
  {
   "attachments": {},
   "cell_type": "markdown",
   "metadata": {},
   "source": [
    "El archivo rrhh.csv contiene información de la situación laboral de los\n",
    "trabajadores de la empresa ABAC. Las variables disponibles son:\n",
    "● Estado: Estado actual del trabajador en la empresa (1: desvinculado, 0:\n",
    "vinculado).\n",
    "● Edad: Edad del trabajador en años.\n",
    "● Ratio.Pago: Medida de pago por hora (numerico)\n",
    "● Salario: Salario mensual en dólares que tiene o tenía el trabajador\n",
    "● Dias.trabajados: Días que lleva o llevaba trabajando en la empresa\n",
    "● Ausencias: Días que ha faltado a trabajar\n",
    "● Sexo: Sexo del trabajador (Female , Male)\n",
    "\n",
    "● Estado.Civil: Estado civil del trabajador (1: divorciado, 2: casado,3:\n",
    "separado, 4: soltero, 5: viuda)\n",
    "● Departamento: Lugar de trabajo en la empresa (Admin Offices,..)\n",
    "● Posicion: Cargo del trabajador/empleado (Accountant I ,.... )\n",
    "● Desempeño: Clasificación del desempeño del trabajador.\n",
    "1. Cargue los datos y revise los formatos de cada variable, recuerde\n",
    "codificar las variables como numéricas o factores según corresponda.\n",
    "2. Realice un análisis descriptivo de sus datos. Determinar si existen\n",
    "observaciones faltantes, en el caso de existir tome la decisión de\n",
    "omitirlas del estudio u omitir la variable. Evalúe si existen posibles\n",
    "incongruencias en la fuente de datos (ej: edades negativas). Y\n",
    "finalmente análice la presencia de valores atípicos en las variables.\n",
    "Comente.\n",
    "3. Realice análisis de cómo se relacionan las variables continuas con la\n",
    "variable de interés. Acompañe con gráficos y estadísticas. ¿Qué\n",
    "variables pudieran resultar significativas a la hora de modelar la\n",
    "probabilidad de que el trabajador sea desvinculado a la empresa?\n",
    "4. Realice análisis de cómo se relacionan las variables categóricas con la\n",
    "variable de interés. Acompañe con gráficos y estadísticas. ¿Qué\n",
    "variables pudieran resultar significativas a la hora de modelar la\n",
    "probabilidad de que el trabajador sea desvinculado a la empresa?"
   ]
  },
  {
   "cell_type": "code",
   "execution_count": null,
   "metadata": {},
   "outputs": [],
   "source": [
    "#importaciones\n",
    "import pandas as pd\n",
    "import numpy as np"
   ]
  },
  {
   "cell_type": "code",
   "execution_count": null,
   "metadata": {},
   "outputs": [],
   "source": [
    "df = pd.read_csv('rrhh.csv')"
   ]
  }
 ],
 "metadata": {
  "kernelspec": {
   "display_name": ".venv",
   "language": "python",
   "name": "python3"
  },
  "language_info": {
   "name": "python",
   "version": "3.10.10"
  },
  "orig_nbformat": 4
 },
 "nbformat": 4,
 "nbformat_minor": 2
}
