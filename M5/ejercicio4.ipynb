{
 "cells": [
  {
   "attachments": {},
   "cell_type": "markdown",
   "metadata": {},
   "source": [
    "El archivo rrhh.csv contiene información de la situación laboral de los\n",
    "trabajadores de la empresa ABAC. Las variables disponibles son:\n",
    "● Estado: Estado actual del trabajador en la empresa (1: desvinculado, 0:\n",
    "vinculado).\n",
    "● Edad: Edad del trabajador en años.\n",
    "● Ratio.Pago: Medida de pago por hora (numerico)\n",
    "● Salario: Salario mensual en dólares que tiene o tenía el trabajador\n",
    "● Dias.trabajados: Días que lleva o llevaba trabajando en la empresa\n",
    "● Ausencias: Días que ha faltado a trabajar\n",
    "● Sexo: Sexo del trabajador (Female , Male)\n",
    "\n",
    "● Estado.Civil: Estado civil del trabajador (1: divorciado, 2: casado,3:\n",
    "separado, 4: soltero, 5: viuda)\n",
    "● Departamento: Lugar de trabajo en la empresa (Admin Offices,..)\n",
    "● Posicion: Cargo del trabajador/empleado (Accountant I ,.... )\n",
    "● Desempeño: Clasificación del desempeño del trabajador.\n",
    "1. Cargue los datos y revise los formatos de cada variable, recuerde\n",
    "codificar las variables como numéricas o factores según corresponda.\n",
    "2. Realice un análisis descriptivo de sus datos. Determinar si existen\n",
    "observaciones faltantes, en el caso de existir tome la decisión de\n",
    "omitirlas del estudio u omitir la variable. Evalúe si existen posibles\n",
    "incongruencias en la fuente de datos (ej: edades negativas). Y\n",
    "finalmente análice la presencia de valores atípicos en las variables.\n",
    "Comente.\n",
    "3. Realice análisis de cómo se relacionan las variables continuas con la\n",
    "variable de interés. Acompañe con gráficos y estadísticas. ¿Qué\n",
    "variables pudieran resultar significativas a la hora de modelar la\n",
    "probabilidad de que el trabajador sea desvinculado a la empresa?\n",
    "4. Realice análisis de cómo se relacionan las variables categóricas con la\n",
    "variable de interés. Acompañe con gráficos y estadísticas. ¿Qué\n",
    "variables pudieran resultar significativas a la hora de modelar la\n",
    "probabilidad de que el trabajador sea desvinculado a la empresa?"
   ]
  },
  {
   "cell_type": "code",
   "execution_count": 5,
   "metadata": {},
   "outputs": [],
   "source": [
    "#importaciones\n",
    "import pandas as pd\n",
    "import numpy as np\n",
    "import matplotlib.pyplot as plt\n",
    "from sklearn import model_selection\n",
    "from sklearn.linear_model import LogisticRegression\n",
    "from sklearn.preprocessing import LabelEncoder\n",
    "from sklearn.metrics import classification_report\n",
    "from sklearn.metrics import confusion_matrix\n",
    "from sklearn.metrics import accuracy_score"
   ]
  },
  {
   "cell_type": "code",
   "execution_count": 6,
   "metadata": {},
   "outputs": [
    {
     "data": {
      "text/html": [
       "<div>\n",
       "<style scoped>\n",
       "    .dataframe tbody tr th:only-of-type {\n",
       "        vertical-align: middle;\n",
       "    }\n",
       "\n",
       "    .dataframe tbody tr th {\n",
       "        vertical-align: top;\n",
       "    }\n",
       "\n",
       "    .dataframe thead th {\n",
       "        text-align: right;\n",
       "    }\n",
       "</style>\n",
       "<table border=\"1\" class=\"dataframe\">\n",
       "  <thead>\n",
       "    <tr style=\"text-align: right;\">\n",
       "      <th></th>\n",
       "      <th>Estado</th>\n",
       "      <th>Edad</th>\n",
       "      <th>Ratio.Pago</th>\n",
       "      <th>Salario</th>\n",
       "      <th>Dias.trabajados</th>\n",
       "      <th>Ausencias</th>\n",
       "      <th>Sexo</th>\n",
       "      <th>Estado.Civil</th>\n",
       "      <th>Departamento</th>\n",
       "      <th>Posicion</th>\n",
       "      <th>Desempeño</th>\n",
       "    </tr>\n",
       "  </thead>\n",
       "  <tbody>\n",
       "    <tr>\n",
       "      <th>0</th>\n",
       "      <td>0</td>\n",
       "      <td>30.0</td>\n",
       "      <td>28.50</td>\n",
       "      <td>4167.066667</td>\n",
       "      <td>3317</td>\n",
       "      <td>1</td>\n",
       "      <td>Female</td>\n",
       "      <td>2</td>\n",
       "      <td>Admin Offices</td>\n",
       "      <td>Accountant I</td>\n",
       "      <td>Fully Meets</td>\n",
       "    </tr>\n",
       "    <tr>\n",
       "      <th>1</th>\n",
       "      <td>0</td>\n",
       "      <td>34.0</td>\n",
       "      <td>23.00</td>\n",
       "      <td>6962.466667</td>\n",
       "      <td>1420</td>\n",
       "      <td>17</td>\n",
       "      <td>Male</td>\n",
       "      <td>1</td>\n",
       "      <td>Admin Offices</td>\n",
       "      <td>Accountant I</td>\n",
       "      <td>Fully Meets</td>\n",
       "    </tr>\n",
       "    <tr>\n",
       "      <th>2</th>\n",
       "      <td>0</td>\n",
       "      <td>31.0</td>\n",
       "      <td>29.00</td>\n",
       "      <td>4330.333333</td>\n",
       "      <td>1154</td>\n",
       "      <td>3</td>\n",
       "      <td>Male</td>\n",
       "      <td>4</td>\n",
       "      <td>Admin Offices</td>\n",
       "      <td>Accountant I</td>\n",
       "      <td>Fully Meets</td>\n",
       "    </tr>\n",
       "    <tr>\n",
       "      <th>3</th>\n",
       "      <td>0</td>\n",
       "      <td>32.0</td>\n",
       "      <td>21.50</td>\n",
       "      <td>4332.733333</td>\n",
       "      <td>58</td>\n",
       "      <td>15</td>\n",
       "      <td>Female</td>\n",
       "      <td>2</td>\n",
       "      <td>Admin Offices</td>\n",
       "      <td>Administrative Assistant</td>\n",
       "      <td>N/A- too early to review</td>\n",
       "    </tr>\n",
       "    <tr>\n",
       "      <th>4</th>\n",
       "      <td>0</td>\n",
       "      <td>30.0</td>\n",
       "      <td>16.56</td>\n",
       "      <td>3388.333333</td>\n",
       "      <td>940</td>\n",
       "      <td>2</td>\n",
       "      <td>Female</td>\n",
       "      <td>4</td>\n",
       "      <td>Admin Offices</td>\n",
       "      <td>Administrative Assistant</td>\n",
       "      <td>N/A- too early to review</td>\n",
       "    </tr>\n",
       "  </tbody>\n",
       "</table>\n",
       "</div>"
      ],
      "text/plain": [
       "   Estado  Edad  Ratio.Pago      Salario  Dias.trabajados  Ausencias    Sexo   \n",
       "0       0  30.0       28.50  4167.066667             3317          1  Female  \\\n",
       "1       0  34.0       23.00  6962.466667             1420         17    Male   \n",
       "2       0  31.0       29.00  4330.333333             1154          3    Male   \n",
       "3       0  32.0       21.50  4332.733333               58         15  Female   \n",
       "4       0  30.0       16.56  3388.333333              940          2  Female   \n",
       "\n",
       "   Estado.Civil   Departamento                  Posicion   \n",
       "0             2  Admin Offices              Accountant I  \\\n",
       "1             1  Admin Offices              Accountant I   \n",
       "2             4  Admin Offices              Accountant I   \n",
       "3             2  Admin Offices  Administrative Assistant   \n",
       "4             4  Admin Offices  Administrative Assistant   \n",
       "\n",
       "                  Desempeño  \n",
       "0               Fully Meets  \n",
       "1               Fully Meets  \n",
       "2               Fully Meets  \n",
       "3  N/A- too early to review  \n",
       "4  N/A- too early to review  "
      ]
     },
     "execution_count": 6,
     "metadata": {},
     "output_type": "execute_result"
    }
   ],
   "source": [
    "df = pd.read_csv('rrhh.csv')\n",
    "df.head()\n"
   ]
  },
  {
   "cell_type": "code",
   "execution_count": 7,
   "metadata": {},
   "outputs": [
    {
     "data": {
      "text/html": [
       "<div>\n",
       "<style scoped>\n",
       "    .dataframe tbody tr th:only-of-type {\n",
       "        vertical-align: middle;\n",
       "    }\n",
       "\n",
       "    .dataframe tbody tr th {\n",
       "        vertical-align: top;\n",
       "    }\n",
       "\n",
       "    .dataframe thead th {\n",
       "        text-align: right;\n",
       "    }\n",
       "</style>\n",
       "<table border=\"1\" class=\"dataframe\">\n",
       "  <thead>\n",
       "    <tr style=\"text-align: right;\">\n",
       "      <th></th>\n",
       "      <th>count</th>\n",
       "      <th>mean</th>\n",
       "      <th>std</th>\n",
       "      <th>min</th>\n",
       "      <th>25%</th>\n",
       "      <th>50%</th>\n",
       "      <th>75%</th>\n",
       "      <th>max</th>\n",
       "    </tr>\n",
       "  </thead>\n",
       "  <tbody>\n",
       "    <tr>\n",
       "      <th>Estado</th>\n",
       "      <td>310.0</td>\n",
       "      <td>0.409677</td>\n",
       "      <td>0.492569</td>\n",
       "      <td>0.0</td>\n",
       "      <td>0.000000</td>\n",
       "      <td>0.000000</td>\n",
       "      <td>1.000000</td>\n",
       "      <td>1.000000</td>\n",
       "    </tr>\n",
       "    <tr>\n",
       "      <th>Edad</th>\n",
       "      <td>310.0</td>\n",
       "      <td>38.867742</td>\n",
       "      <td>8.922459</td>\n",
       "      <td>25.0</td>\n",
       "      <td>32.000000</td>\n",
       "      <td>37.000000</td>\n",
       "      <td>44.000000</td>\n",
       "      <td>67.000000</td>\n",
       "    </tr>\n",
       "    <tr>\n",
       "      <th>Ratio.Pago</th>\n",
       "      <td>310.0</td>\n",
       "      <td>31.284806</td>\n",
       "      <td>15.383615</td>\n",
       "      <td>14.0</td>\n",
       "      <td>20.000000</td>\n",
       "      <td>24.000000</td>\n",
       "      <td>45.315000</td>\n",
       "      <td>80.000000</td>\n",
       "    </tr>\n",
       "    <tr>\n",
       "      <th>Salario</th>\n",
       "      <td>310.0</td>\n",
       "      <td>4606.534839</td>\n",
       "      <td>1677.350176</td>\n",
       "      <td>3004.6</td>\n",
       "      <td>3707.033333</td>\n",
       "      <td>4190.666667</td>\n",
       "      <td>4804.733333</td>\n",
       "      <td>16666.666667</td>\n",
       "    </tr>\n",
       "    <tr>\n",
       "      <th>Dias.trabajados</th>\n",
       "      <td>310.0</td>\n",
       "      <td>1296.080645</td>\n",
       "      <td>769.491382</td>\n",
       "      <td>2.0</td>\n",
       "      <td>766.250000</td>\n",
       "      <td>1238.000000</td>\n",
       "      <td>1732.750000</td>\n",
       "      <td>4339.000000</td>\n",
       "    </tr>\n",
       "    <tr>\n",
       "      <th>Ausencias</th>\n",
       "      <td>310.0</td>\n",
       "      <td>10.264516</td>\n",
       "      <td>5.843235</td>\n",
       "      <td>1.0</td>\n",
       "      <td>5.000000</td>\n",
       "      <td>10.000000</td>\n",
       "      <td>15.000000</td>\n",
       "      <td>20.000000</td>\n",
       "    </tr>\n",
       "    <tr>\n",
       "      <th>Estado.Civil</th>\n",
       "      <td>310.0</td>\n",
       "      <td>2.903226</td>\n",
       "      <td>1.150625</td>\n",
       "      <td>1.0</td>\n",
       "      <td>2.000000</td>\n",
       "      <td>3.000000</td>\n",
       "      <td>4.000000</td>\n",
       "      <td>5.000000</td>\n",
       "    </tr>\n",
       "  </tbody>\n",
       "</table>\n",
       "</div>"
      ],
      "text/plain": [
       "                 count         mean          std     min          25%   \n",
       "Estado           310.0     0.409677     0.492569     0.0     0.000000  \\\n",
       "Edad             310.0    38.867742     8.922459    25.0    32.000000   \n",
       "Ratio.Pago       310.0    31.284806    15.383615    14.0    20.000000   \n",
       "Salario          310.0  4606.534839  1677.350176  3004.6  3707.033333   \n",
       "Dias.trabajados  310.0  1296.080645   769.491382     2.0   766.250000   \n",
       "Ausencias        310.0    10.264516     5.843235     1.0     5.000000   \n",
       "Estado.Civil     310.0     2.903226     1.150625     1.0     2.000000   \n",
       "\n",
       "                         50%          75%           max  \n",
       "Estado              0.000000     1.000000      1.000000  \n",
       "Edad               37.000000    44.000000     67.000000  \n",
       "Ratio.Pago         24.000000    45.315000     80.000000  \n",
       "Salario          4190.666667  4804.733333  16666.666667  \n",
       "Dias.trabajados  1238.000000  1732.750000   4339.000000  \n",
       "Ausencias          10.000000    15.000000     20.000000  \n",
       "Estado.Civil        3.000000     4.000000      5.000000  "
      ]
     },
     "execution_count": 7,
     "metadata": {},
     "output_type": "execute_result"
    }
   ],
   "source": [
    "df.describe().T"
   ]
  },
  {
   "cell_type": "code",
   "execution_count": 8,
   "metadata": {},
   "outputs": [],
   "source": [
    "label_encoder = LabelEncoder()\n",
    "df['sexo_category'] = label_encoder.fit_transform(df['Sexo'])\n",
    "df['departamento_category'] = label_encoder.fit_transform(df['Departamento'])\n",
    "df['posicion_category'] = label_encoder.fit_transform(df['Posicion'])\n",
    "df['desempeño_category'] = label_encoder.fit_transform(df['Desempeño'])\n"
   ]
  },
  {
   "cell_type": "code",
   "execution_count": 9,
   "metadata": {},
   "outputs": [
    {
     "data": {
      "text/plain": [
       "Estado                   0\n",
       "Edad                     0\n",
       "Ratio.Pago               0\n",
       "Salario                  0\n",
       "Dias.trabajados          0\n",
       "Ausencias                0\n",
       "Sexo                     0\n",
       "Estado.Civil             0\n",
       "Departamento             0\n",
       "Posicion                 0\n",
       "Desempeño                0\n",
       "sexo_category            0\n",
       "departamento_category    0\n",
       "posicion_category        0\n",
       "desempeño_category       0\n",
       "dtype: int64"
      ]
     },
     "execution_count": 9,
     "metadata": {},
     "output_type": "execute_result"
    }
   ],
   "source": [
    "df.isnull().sum()"
   ]
  },
  {
   "attachments": {},
   "cell_type": "markdown",
   "metadata": {},
   "source": [
    "Podemos ver que no existe ningun dato faltante"
   ]
  },
  {
   "cell_type": "code",
   "execution_count": 10,
   "metadata": {},
   "outputs": [
    {
     "data": {
      "image/png": "[encoded data removed]",
      "text/plain": [
       "<Figure size 640x480 with 1 Axes>"
      ]
     },
     "metadata": {},
     "output_type": "display_data"
    }
   ],
   "source": [
    "df[['Salario', 'Dias.trabajados']].boxplot()\n",
    "plt.show()"
   ]
  },
  {
   "attachments": {},
   "cell_type": "markdown",
   "metadata": {},
   "source": [
    "Se puede ver que existen algunos outlayers en salario y dias trabajados"
   ]
  },
  {
   "cell_type": "code",
   "execution_count": 11,
   "metadata": {},
   "outputs": [
    {
     "name": "stdout",
     "output_type": "stream",
     "text": [
      "Coeficiente para Edad: 0.044983986985451016\n",
      "Coeficiente para Ratio.Pago: -0.040064464267978335\n",
      "Coeficiente para Salario: -0.00011347113130499666\n",
      "Coeficiente para Dias.trabajados: -0.002517205115306673\n",
      "Coeficiente para Ausencias: 0.03002613319327783\n"
     ]
    }
   ],
   "source": [
    "X = df[['Edad', 'Ratio.Pago', 'Salario', 'Dias.trabajados', 'Ausencias',]]\n",
    "y = df['Estado']\n",
    "model = LogisticRegression()\n",
    "X_train, X_validation, Y_train, Y_validation = model_selection.train_test_split(X, y, test_size=0.2, random_state=1)\n",
    "model.fit(X_train, Y_train)\n",
    "\n",
    "coeficientes = model.coef_\n",
    "\n",
    "for i, col in enumerate(X.columns):\n",
    "    print(f'Coeficiente para {col}: {coeficientes[0][i]}')\n",
    "\n",
    "\n"
   ]
  },
  {
   "cell_type": "code",
   "execution_count": 12,
   "metadata": {},
   "outputs": [
    {
     "name": "stdout",
     "output_type": "stream",
     "text": [
      "0.6774193548387096\n"
     ]
    }
   ],
   "source": [
    "\t\n",
    "predictions = model.predict(X_validation)\n",
    "print(accuracy_score(Y_validation, predictions))"
   ]
  },
  {
   "cell_type": "code",
   "execution_count": 13,
   "metadata": {},
   "outputs": [
    {
     "name": "stdout",
     "output_type": "stream",
     "text": [
      "[[26 10]\n",
      " [10 16]]\n"
     ]
    }
   ],
   "source": [
    "print(confusion_matrix(Y_validation, predictions))"
   ]
  },
  {
   "cell_type": "code",
   "execution_count": 14,
   "metadata": {},
   "outputs": [
    {
     "name": "stdout",
     "output_type": "stream",
     "text": [
      "              precision    recall  f1-score   support\n",
      "\n",
      "           0       0.72      0.72      0.72        36\n",
      "           1       0.62      0.62      0.62        26\n",
      "\n",
      "    accuracy                           0.68        62\n",
      "   macro avg       0.67      0.67      0.67        62\n",
      "weighted avg       0.68      0.68      0.68        62\n",
      "\n"
     ]
    }
   ],
   "source": [
    "print(classification_report(Y_validation, predictions))"
   ]
  },
  {
   "attachments": {},
   "cell_type": "markdown",
   "metadata": {},
   "source": [
    "Se puede observar que se tiene un aprox 72% de certeza de prediccion usando las variables continuas"
   ]
  },
  {
   "cell_type": "code",
   "execution_count": 16,
   "metadata": {},
   "outputs": [
    {
     "name": "stdout",
     "output_type": "stream",
     "text": [
      "Coeficiente para sexo_category: 0.004795409753156298\n",
      "Coeficiente para Estado.Civil: -0.24221787922710303\n",
      "Coeficiente para departamento_category: 0.1551223180696152\n",
      "Coeficiente para posicion_category: 0.11654509310790458\n",
      "Coeficiente para desempeño_category: 0.17341900538891764\n"
     ]
    }
   ],
   "source": [
    "X2 = df[['sexo_category', 'Estado.Civil', 'departamento_category', 'posicion_category', 'desempeño_category',]]\n",
    "y2 = df['Estado']\n",
    "model = LogisticRegression()\n",
    "X_train2, X_validation2, Y_train2, Y_validation2 = model_selection.train_test_split(X2, y2, test_size=0.2, random_state=1)\n",
    "model.fit(X_train2, Y_train2)\n",
    "\n",
    "coeficientes2 = model.coef_\n",
    "\n",
    "for i, col in enumerate(X2.columns):\n",
    "    print(f'Coeficiente para {col}: {coeficientes2[0][i]}')"
   ]
  },
  {
   "cell_type": "code",
   "execution_count": 17,
   "metadata": {},
   "outputs": [
    {
     "name": "stdout",
     "output_type": "stream",
     "text": [
      "0.5483870967741935\n"
     ]
    }
   ],
   "source": [
    "predictions2 = model.predict(X_validation2)\n",
    "print(accuracy_score(Y_validation2, predictions2))"
   ]
  },
  {
   "cell_type": "code",
   "execution_count": 18,
   "metadata": {},
   "outputs": [
    {
     "name": "stdout",
     "output_type": "stream",
     "text": [
      "[[23 13]\n",
      " [15 11]]\n"
     ]
    }
   ],
   "source": [
    "print(confusion_matrix(Y_validation2, predictions2))"
   ]
  },
  {
   "cell_type": "code",
   "execution_count": 19,
   "metadata": {},
   "outputs": [
    {
     "name": "stdout",
     "output_type": "stream",
     "text": [
      "              precision    recall  f1-score   support\n",
      "\n",
      "           0       0.61      0.64      0.62        36\n",
      "           1       0.46      0.42      0.44        26\n",
      "\n",
      "    accuracy                           0.55        62\n",
      "   macro avg       0.53      0.53      0.53        62\n",
      "weighted avg       0.54      0.55      0.55        62\n",
      "\n"
     ]
    }
   ],
   "source": [
    "print(classification_report(Y_validation2, predictions2))"
   ]
  },
  {
   "attachments": {},
   "cell_type": "markdown",
   "metadata": {},
   "source": [
    "Las variables continuas resultan mas certeras en la prediccion, tomando en cuenta la presicion usando los diferentes tipos de variables"
   ]
  }
 ],
 "metadata": {
  "kernelspec": {
   "display_name": ".venv",
   "language": "python",
   "name": "python3"
  },
  "language_info": {
   "codemirror_mode": {
    "name": "ipython",
    "version": 3
   },
   "file_extension": ".py",
   "mimetype": "text/x-python",
   "name": "python",
   "nbconvert_exporter": "python",
   "pygments_lexer": "ipython3",
   "version": "3.10.10"
  },
  "orig_nbformat": 4
 },
 "nbformat": 4,
 "nbformat_minor": 2
}
