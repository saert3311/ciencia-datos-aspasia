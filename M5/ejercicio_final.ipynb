{
 "cells": [
  {
   "attachments": {},
   "cell_type": "markdown",
   "metadata": {},
   "source": [
    "Utilizaremos un set de datos de las policias de New York del año 2009 y\n",
    "2010. (2009_1perc.csv y 2010_1perc.csv) los cuales nos darán información\n",
    "de los procedimientos policiales realizados. Además se le entregará el\n",
    "diccionario de variables para que pueda consultar que significa cada\n",
    "categoría dentro de las variables.\n",
    "● La variable respuesta 'arstmade' informa si los procedimientos policiales\n",
    "han terminado en arresto o no, y el objetivo será realizar un modelo de\n",
    "Machine Learning para predecir si un futuro procedimiento terminará en\n",
    "arresto."
   ]
  },
  {
   "cell_type": "code",
   "execution_count": 1,
   "metadata": {},
   "outputs": [],
   "source": [
    "#importaciones y set up\n",
    "import pandas as pd\n",
    "import seaborn as sns\n",
    "import matplotlib.pyplot as plt\n",
    "df2009 = pd.read_csv('2009_1perc.csv')\n",
    "df2010 = pd.read_csv('2010_1perc.csv')\n",
    "\n",
    "procedures = pd.concat([df2009, df2010], ignore_index=True)\n",
    "\n"
   ]
  },
  {
   "cell_type": "code",
   "execution_count": 2,
   "metadata": {},
   "outputs": [
    {
     "name": "stdout",
     "output_type": "stream",
     "text": [
      "<class 'pandas.core.frame.DataFrame'>\n",
      "RangeIndex: 11825 entries, 0 to 11824\n",
      "Columns: 112 entries, Unnamed: 0 to detailcm\n",
      "dtypes: float64(1), int64(16), object(95)\n",
      "memory usage: 10.1+ MB\n"
     ]
    }
   ],
   "source": [
    "procedures.info()"
   ]
  },
  {
   "cell_type": "code",
   "execution_count": 3,
   "metadata": {},
   "outputs": [
    {
     "data": {
      "text/html": [
       "<div>\n",
       "<style scoped>\n",
       "    .dataframe tbody tr th:only-of-type {\n",
       "        vertical-align: middle;\n",
       "    }\n",
       "\n",
       "    .dataframe tbody tr th {\n",
       "        vertical-align: top;\n",
       "    }\n",
       "\n",
       "    .dataframe thead th {\n",
       "        text-align: right;\n",
       "    }\n",
       "</style>\n",
       "<table border=\"1\" class=\"dataframe\">\n",
       "  <thead>\n",
       "    <tr style=\"text-align: right;\">\n",
       "      <th></th>\n",
       "      <th>count</th>\n",
       "      <th>mean</th>\n",
       "      <th>std</th>\n",
       "      <th>min</th>\n",
       "      <th>25%</th>\n",
       "      <th>50%</th>\n",
       "      <th>75%</th>\n",
       "      <th>max</th>\n",
       "    </tr>\n",
       "  </thead>\n",
       "  <tbody>\n",
       "    <tr>\n",
       "      <th>Unnamed: 0</th>\n",
       "      <td>11825.0</td>\n",
       "      <td>2.959838e+05</td>\n",
       "      <td>1.708207e+05</td>\n",
       "      <td>52.0</td>\n",
       "      <td>147515.0</td>\n",
       "      <td>296652.0</td>\n",
       "      <td>443097.0</td>\n",
       "      <td>601281.0</td>\n",
       "    </tr>\n",
       "    <tr>\n",
       "      <th>year</th>\n",
       "      <td>11825.0</td>\n",
       "      <td>2.009508e+03</td>\n",
       "      <td>4.999489e-01</td>\n",
       "      <td>2009.0</td>\n",
       "      <td>2009.0</td>\n",
       "      <td>2010.0</td>\n",
       "      <td>2010.0</td>\n",
       "      <td>2010.0</td>\n",
       "    </tr>\n",
       "    <tr>\n",
       "      <th>pct</th>\n",
       "      <td>11825.0</td>\n",
       "      <td>6.862562e+01</td>\n",
       "      <td>3.303783e+01</td>\n",
       "      <td>1.0</td>\n",
       "      <td>42.0</td>\n",
       "      <td>73.0</td>\n",
       "      <td>102.0</td>\n",
       "      <td>123.0</td>\n",
       "    </tr>\n",
       "    <tr>\n",
       "      <th>ser_num</th>\n",
       "      <td>11825.0</td>\n",
       "      <td>5.697994e+03</td>\n",
       "      <td>5.152486e+03</td>\n",
       "      <td>1.0</td>\n",
       "      <td>2002.0</td>\n",
       "      <td>4366.0</td>\n",
       "      <td>7840.0</td>\n",
       "      <td>31694.0</td>\n",
       "    </tr>\n",
       "    <tr>\n",
       "      <th>datestop</th>\n",
       "      <td>11825.0</td>\n",
       "      <td>6.364221e+06</td>\n",
       "      <td>3.429091e+06</td>\n",
       "      <td>1012009.0</td>\n",
       "      <td>3232009.0</td>\n",
       "      <td>6162010.0</td>\n",
       "      <td>9232009.0</td>\n",
       "      <td>12312010.0</td>\n",
       "    </tr>\n",
       "    <tr>\n",
       "      <th>timestop</th>\n",
       "      <td>11825.0</td>\n",
       "      <td>1.413725e+03</td>\n",
       "      <td>7.447264e+02</td>\n",
       "      <td>0.0</td>\n",
       "      <td>1000.0</td>\n",
       "      <td>1605.0</td>\n",
       "      <td>2035.0</td>\n",
       "      <td>2830.0</td>\n",
       "    </tr>\n",
       "    <tr>\n",
       "      <th>perobs</th>\n",
       "      <td>11825.0</td>\n",
       "      <td>2.654391e+00</td>\n",
       "      <td>9.759031e+00</td>\n",
       "      <td>0.0</td>\n",
       "      <td>1.0</td>\n",
       "      <td>1.0</td>\n",
       "      <td>3.0</td>\n",
       "      <td>926.0</td>\n",
       "    </tr>\n",
       "    <tr>\n",
       "      <th>perstop</th>\n",
       "      <td>11825.0</td>\n",
       "      <td>5.649556e+00</td>\n",
       "      <td>9.758535e+00</td>\n",
       "      <td>1.0</td>\n",
       "      <td>3.0</td>\n",
       "      <td>5.0</td>\n",
       "      <td>5.0</td>\n",
       "      <td>857.0</td>\n",
       "    </tr>\n",
       "    <tr>\n",
       "      <th>compyear</th>\n",
       "      <td>11825.0</td>\n",
       "      <td>0.000000e+00</td>\n",
       "      <td>0.000000e+00</td>\n",
       "      <td>0.0</td>\n",
       "      <td>0.0</td>\n",
       "      <td>0.0</td>\n",
       "      <td>0.0</td>\n",
       "      <td>0.0</td>\n",
       "    </tr>\n",
       "    <tr>\n",
       "      <th>comppct</th>\n",
       "      <td>11825.0</td>\n",
       "      <td>0.000000e+00</td>\n",
       "      <td>0.000000e+00</td>\n",
       "      <td>0.0</td>\n",
       "      <td>0.0</td>\n",
       "      <td>0.0</td>\n",
       "      <td>0.0</td>\n",
       "      <td>0.0</td>\n",
       "    </tr>\n",
       "    <tr>\n",
       "      <th>repcmd</th>\n",
       "      <td>11825.0</td>\n",
       "      <td>2.433549e+02</td>\n",
       "      <td>2.977886e+02</td>\n",
       "      <td>1.0</td>\n",
       "      <td>70.0</td>\n",
       "      <td>105.0</td>\n",
       "      <td>177.0</td>\n",
       "      <td>879.0</td>\n",
       "    </tr>\n",
       "    <tr>\n",
       "      <th>revcmd</th>\n",
       "      <td>11825.0</td>\n",
       "      <td>2.389864e+02</td>\n",
       "      <td>2.993947e+02</td>\n",
       "      <td>1.0</td>\n",
       "      <td>66.0</td>\n",
       "      <td>103.0</td>\n",
       "      <td>176.0</td>\n",
       "      <td>879.0</td>\n",
       "    </tr>\n",
       "    <tr>\n",
       "      <th>dob</th>\n",
       "      <td>11825.0</td>\n",
       "      <td>7.316195e+06</td>\n",
       "      <td>3.729206e+06</td>\n",
       "      <td>1011900.0</td>\n",
       "      <td>4121982.0</td>\n",
       "      <td>7261982.0</td>\n",
       "      <td>11051988.0</td>\n",
       "      <td>12311996.0</td>\n",
       "    </tr>\n",
       "    <tr>\n",
       "      <th>age</th>\n",
       "      <td>11825.0</td>\n",
       "      <td>2.896854e+01</td>\n",
       "      <td>2.920528e+01</td>\n",
       "      <td>1.0</td>\n",
       "      <td>19.0</td>\n",
       "      <td>25.0</td>\n",
       "      <td>34.0</td>\n",
       "      <td>999.0</td>\n",
       "    </tr>\n",
       "    <tr>\n",
       "      <th>ht_feet</th>\n",
       "      <td>11825.0</td>\n",
       "      <td>5.183340e+00</td>\n",
       "      <td>3.988013e-01</td>\n",
       "      <td>3.0</td>\n",
       "      <td>5.0</td>\n",
       "      <td>5.0</td>\n",
       "      <td>5.0</td>\n",
       "      <td>7.0</td>\n",
       "    </tr>\n",
       "    <tr>\n",
       "      <th>ht_inch</th>\n",
       "      <td>11825.0</td>\n",
       "      <td>6.408034e+00</td>\n",
       "      <td>3.405503e+00</td>\n",
       "      <td>0.0</td>\n",
       "      <td>4.0</td>\n",
       "      <td>7.0</td>\n",
       "      <td>9.0</td>\n",
       "      <td>11.0</td>\n",
       "    </tr>\n",
       "    <tr>\n",
       "      <th>weight</th>\n",
       "      <td>11825.0</td>\n",
       "      <td>1.700936e+02</td>\n",
       "      <td>3.719588e+01</td>\n",
       "      <td>1.0</td>\n",
       "      <td>150.0</td>\n",
       "      <td>170.0</td>\n",
       "      <td>180.0</td>\n",
       "      <td>999.0</td>\n",
       "    </tr>\n",
       "  </tbody>\n",
       "</table>\n",
       "</div>"
      ],
      "text/plain": [
       "              count          mean           std        min        25%   \n",
       "Unnamed: 0  11825.0  2.959838e+05  1.708207e+05       52.0   147515.0  \\\n",
       "year        11825.0  2.009508e+03  4.999489e-01     2009.0     2009.0   \n",
       "pct         11825.0  6.862562e+01  3.303783e+01        1.0       42.0   \n",
       "ser_num     11825.0  5.697994e+03  5.152486e+03        1.0     2002.0   \n",
       "datestop    11825.0  6.364221e+06  3.429091e+06  1012009.0  3232009.0   \n",
       "timestop    11825.0  1.413725e+03  7.447264e+02        0.0     1000.0   \n",
       "perobs      11825.0  2.654391e+00  9.759031e+00        0.0        1.0   \n",
       "perstop     11825.0  5.649556e+00  9.758535e+00        1.0        3.0   \n",
       "compyear    11825.0  0.000000e+00  0.000000e+00        0.0        0.0   \n",
       "comppct     11825.0  0.000000e+00  0.000000e+00        0.0        0.0   \n",
       "repcmd      11825.0  2.433549e+02  2.977886e+02        1.0       70.0   \n",
       "revcmd      11825.0  2.389864e+02  2.993947e+02        1.0       66.0   \n",
       "dob         11825.0  7.316195e+06  3.729206e+06  1011900.0  4121982.0   \n",
       "age         11825.0  2.896854e+01  2.920528e+01        1.0       19.0   \n",
       "ht_feet     11825.0  5.183340e+00  3.988013e-01        3.0        5.0   \n",
       "ht_inch     11825.0  6.408034e+00  3.405503e+00        0.0        4.0   \n",
       "weight      11825.0  1.700936e+02  3.719588e+01        1.0      150.0   \n",
       "\n",
       "                  50%         75%         max  \n",
       "Unnamed: 0   296652.0    443097.0    601281.0  \n",
       "year           2010.0      2010.0      2010.0  \n",
       "pct              73.0       102.0       123.0  \n",
       "ser_num        4366.0      7840.0     31694.0  \n",
       "datestop    6162010.0   9232009.0  12312010.0  \n",
       "timestop       1605.0      2035.0      2830.0  \n",
       "perobs            1.0         3.0       926.0  \n",
       "perstop           5.0         5.0       857.0  \n",
       "compyear          0.0         0.0         0.0  \n",
       "comppct           0.0         0.0         0.0  \n",
       "repcmd          105.0       177.0       879.0  \n",
       "revcmd          103.0       176.0       879.0  \n",
       "dob         7261982.0  11051988.0  12311996.0  \n",
       "age              25.0        34.0       999.0  \n",
       "ht_feet           5.0         5.0         7.0  \n",
       "ht_inch           7.0         9.0        11.0  \n",
       "weight          170.0       180.0       999.0  "
      ]
     },
     "execution_count": 3,
     "metadata": {},
     "output_type": "execute_result"
    }
   ],
   "source": [
    "procedures.describe().T"
   ]
  },
  {
   "attachments": {},
   "cell_type": "markdown",
   "metadata": {},
   "source": [
    "3.- Preprocesamiento de datos\n",
    "Habrá notado que los datos parecen tener ciertas inconsistencias. Siga los\n",
    "siguientes pasos para limpiar este set:\n",
    "\n",
    "- 3.1 Obtenga una lista con todas las variables categoricas que tengan entre 2 y 99 categorías (inclusive). (hint: son las variables tipo categoricas"
   ]
  },
  {
   "cell_type": "code",
   "execution_count": 4,
   "metadata": {},
   "outputs": [
    {
     "data": {
      "text/plain": [
       "['recstat',\n",
       " 'inout',\n",
       " 'trhsloc',\n",
       " 'typeofid',\n",
       " 'explnstp',\n",
       " 'othpers',\n",
       " 'arstmade',\n",
       " 'sumissue',\n",
       " 'offunif',\n",
       " 'officrid',\n",
       " 'frisked',\n",
       " 'searched',\n",
       " 'contrabn',\n",
       " 'pistol',\n",
       " 'riflshot',\n",
       " 'asltweap',\n",
       " 'knifcuti',\n",
       " 'othrweap',\n",
       " 'pf_hands',\n",
       " 'pf_wall',\n",
       " 'pf_grnd',\n",
       " 'pf_drwep',\n",
       " 'pf_ptwep',\n",
       " 'pf_baton',\n",
       " 'pf_hcuff',\n",
       " 'pf_pepsp',\n",
       " 'pf_other',\n",
       " 'radio',\n",
       " 'ac_rept',\n",
       " 'ac_inves',\n",
       " 'rf_vcrim',\n",
       " 'rf_othsw',\n",
       " 'ac_proxm',\n",
       " 'rf_attir',\n",
       " 'cs_objcs',\n",
       " 'cs_descr',\n",
       " 'cs_casng',\n",
       " 'cs_lkout',\n",
       " 'rf_vcact',\n",
       " 'cs_cloth',\n",
       " 'cs_drgtr',\n",
       " 'ac_evasv',\n",
       " 'ac_assoc',\n",
       " 'cs_furtv',\n",
       " 'rf_rfcmp',\n",
       " 'ac_cgdir',\n",
       " 'rf_verbl',\n",
       " 'cs_vcrim',\n",
       " 'cs_bulge',\n",
       " 'cs_other',\n",
       " 'ac_incid',\n",
       " 'ac_time',\n",
       " 'rf_knowl',\n",
       " 'ac_stsnd',\n",
       " 'ac_other',\n",
       " 'sb_hdobj',\n",
       " 'sb_outln',\n",
       " 'sb_admis',\n",
       " 'sb_other',\n",
       " 'rf_furt',\n",
       " 'rf_bulg',\n",
       " 'offverb',\n",
       " 'offshld',\n",
       " 'sex',\n",
       " 'race',\n",
       " 'haircolr',\n",
       " 'eyecolor',\n",
       " 'build',\n",
       " 'addrtyp',\n",
       " 'city',\n",
       " 'sector',\n",
       " 'beat',\n",
       " 'dettypcm',\n",
       " 'linecm']"
      ]
     },
     "execution_count": 4,
     "metadata": {},
     "output_type": "execute_result"
    }
   ],
   "source": [
    "#utilidades para determinar variables categoricas\n",
    "def count_freq(df, selected_columns):\n",
    "    return {i: df[i].unique().shape[0] for i in selected_columns}\n",
    "def infer_datatype(df, datatype, drop_none=True):\n",
    "    tmp_list = [i if df[i].dtype == datatype else None for i in df.columns]\n",
    "    if drop_none is True:\n",
    "        tmp_list = list(filter(lambda x: x != None, tmp_list))\n",
    "\n",
    "    return tmp_list\n",
    "\n",
    "#determinar variables categoricas\n",
    "\n",
    "object_data_type = infer_datatype(procedures, 'object')\n",
    "integer_data_type = infer_datatype(procedures, 'int')\n",
    "float_data_type = infer_datatype(procedures, 'float')\n",
    "\n",
    "object_unique_vals = count_freq(procedures, object_data_type)\n",
    "int_unique_vals = count_freq(procedures, integer_data_type)\n",
    "float_unique_vals = count_freq(procedures, float_data_type)\n",
    "\n",
    "ListaVariableCategorica = dict(filter(lambda x: x[1] < 100 and x[1] >= 2, object_unique_vals.items()))\n",
    "ListaVariableCategorica = list(ListaVariableCategorica.keys())\n",
    "ListaVariableCategorica"
   ]
  },
  {
   "attachments": {},
   "cell_type": "markdown",
   "metadata": {},
   "source": [
    "-  3.2 Reemplaze las siguientes clases faltantes: \n",
    "    - Si alguna categoría de las columnas officrid, offshld o offverb es igual a \"\" cambielo a 'N' y en caso contrario dejelo como 'Y'"
   ]
  },
  {
   "cell_type": "code",
   "execution_count": 5,
   "metadata": {},
   "outputs": [
    {
     "data": {
      "text/plain": [
       "array(['B', 'A', 'Q', ..., 'W', 'Q', 'B'], dtype=object)"
      ]
     },
     "execution_count": 5,
     "metadata": {},
     "output_type": "execute_result"
    }
   ],
   "source": [
    "procedures['race'].values"
   ]
  },
  {
   "cell_type": "code",
   "execution_count": 6,
   "metadata": {},
   "outputs": [
    {
     "data": {
      "text/plain": [
       "array(['N', 'N', 'N', ..., 'N', 'N', 'N'], dtype=object)"
      ]
     },
     "execution_count": 6,
     "metadata": {},
     "output_type": "execute_result"
    }
   ],
   "source": [
    "procedures['officrid'] = procedures['officrid'].fillna('N').apply(lambda x: 'N' if x != 'Y' else x)\n",
    "procedures['offshld'] = procedures['offshld'].fillna('N').apply(lambda x: 'N' if x != 'Y' else x)\n",
    "procedures['offverb'] = procedures['offverb'].fillna('N').apply(lambda x: 'N' if x != 'Y' else x)\n",
    "procedures['officrid'].values"
   ]
  },
  {
   "attachments": {},
   "cell_type": "markdown",
   "metadata": {},
   "source": [
    "-Si alguna categoría de las columnas sector, trhsloc o beat es igual a \"\" (o NA,\n",
    "dependiendo de como haya catgado la base de datos), cambielo a 'U' y en caso\n",
    "contrario mantenga su valor\n",
    "Nota, los valores significan {N: No, Y: Yes, U: Unknown}"
   ]
  },
  {
   "cell_type": "code",
   "execution_count": 7,
   "metadata": {},
   "outputs": [
    {
     "data": {
      "text/plain": [
       "array(['G', 'J', 'E', ..., 'E', 'E', 'H'], dtype=object)"
      ]
     },
     "execution_count": 7,
     "metadata": {},
     "output_type": "execute_result"
    }
   ],
   "source": [
    "procedures['sector'].values"
   ]
  },
  {
   "cell_type": "code",
   "execution_count": 8,
   "metadata": {},
   "outputs": [
    {
     "data": {
      "text/plain": [
       "array(['G', 'J', 'E', ..., 'E', 'E', 'H'], dtype=object)"
      ]
     },
     "execution_count": 8,
     "metadata": {},
     "output_type": "execute_result"
    }
   ],
   "source": [
    "procedures['sector'] = procedures['sector'].fillna('U')\n",
    "procedures['trhsloc'] = procedures['trhsloc'].fillna('U')\n",
    "procedures['beat'] = procedures['beat'].fillna('U')\n",
    "procedures['sector'].values"
   ]
  },
  {
   "attachments": {},
   "cell_type": "markdown",
   "metadata": {},
   "source": [
    "- 3.3 Transforme las columnas ht_feet junto con ht_inch en una única columna (de la forma \"ht_feet.ht_inch\") llamado 'meters' (hint: transforme con el siguiente cálculo: metros = (pies+pulgadas)*0.3048)"
   ]
  },
  {
   "cell_type": "code",
   "execution_count": 9,
   "metadata": {},
   "outputs": [
    {
     "data": {
      "text/plain": [
       "array([4.2672, 3.048 , 2.7432, ..., 1.8288, 4.8768, 2.1336])"
      ]
     },
     "execution_count": 9,
     "metadata": {},
     "output_type": "execute_result"
    }
   ],
   "source": [
    "procedures['ht_meters'] = (procedures['ht_feet'] + procedures['ht_inch']) * 0.3048\n",
    "procedures['ht_meters'].values\n"
   ]
  },
  {
   "attachments": {},
   "cell_type": "markdown",
   "metadata": {},
   "source": [
    "- 3.4 Note que la fecha viene en un formato MMDDAAAA en la columna datestop. Genere 2 nuevas columnas llamadas month y year que solo tenga el mes y el año respectivamente. Hint: Explore la libreria lubridate https://www.rstudio.com/resources/cheatsheets/"
   ]
  },
  {
   "cell_type": "code",
   "execution_count": 10,
   "metadata": {},
   "outputs": [],
   "source": [
    "procedures['datestop'] = pd.to_datetime(procedures['datestop'], format='%m%d%Y')\n",
    "procedures['datestop_year'] = procedures['datestop'].dt.year\n",
    "procedures['datestop_month'] = procedures['datestop'].dt.month\n"
   ]
  },
  {
   "attachments": {},
   "cell_type": "markdown",
   "metadata": {},
   "source": [
    "3.5 Filtre su DataFrame y solo deje las columnas seleccionadas en el punto\n",
    "3.1, el mes, el año, los metros y la edad. Luego solo deje los registros cuyas\n",
    "edades esten entre 18 y 100 años, ambos inclusive."
   ]
  },
  {
   "cell_type": "code",
   "execution_count": 11,
   "metadata": {},
   "outputs": [
    {
     "data": {
      "text/plain": [
       "(10078, 77)"
      ]
     },
     "execution_count": 11,
     "metadata": {},
     "output_type": "execute_result"
    }
   ],
   "source": [
    "filtered_df = procedures[[*ListaVariableCategorica, 'datestop_month', 'datestop_year', 'age']][(procedures['age'] >= 18) & (procedures['age'] <= 100)]\n",
    "filtered_df.shape"
   ]
  },
  {
   "attachments": {},
   "cell_type": "markdown",
   "metadata": {},
   "source": [
    "Estudie la variable respuesta por si sola (arstmade), puede ayudarse de un gráfico. Comente"
   ]
  },
  {
   "cell_type": "code",
   "execution_count": 12,
   "metadata": {},
   "outputs": [
    {
     "data": {
      "text/plain": [
       "array(['N', 'N', 'N', ..., 'N', 'N', 'N'], dtype=object)"
      ]
     },
     "execution_count": 12,
     "metadata": {},
     "output_type": "execute_result"
    }
   ],
   "source": [
    "filtered_df['arstmade'].values"
   ]
  },
  {
   "cell_type": "code",
   "execution_count": 13,
   "metadata": {},
   "outputs": [
    {
     "data": {
      "image/png": "[encoded data removed]",
      "text/plain": [
       "<Figure size 640x480 with 1 Axes>"
      ]
     },
     "metadata": {},
     "output_type": "display_data"
    }
   ],
   "source": [
    "colors = sns.color_palette('pastel')[0:5]\n",
    "value_counts = procedures['arstmade'].value_counts()\n",
    "value_counts.plot.pie(autopct='%1.1f%%',)\n",
    "plt.axis('equal')  # Ensure pie chart is circular\n",
    "plt.show()"
   ]
  },
  {
   "attachments": {},
   "cell_type": "markdown",
   "metadata": {},
   "source": [
    "Se puede observar que solo el 6.3% de los procedimientos terminan en arresto en mayores de edad. Por si solo este dato no nos da mucha informacion habria que balancearlo con otras variables o compararlo con otras epocas para analizar el como evoluciona, ademas de contrastarlo con coyonturas sociales que pueden afectar este valor para tener un analisis mas profundo."
   ]
  },
  {
   "cell_type": "code",
   "execution_count": 14,
   "metadata": {},
   "outputs": [
    {
     "data": {
      "text/html": [
       "<div>\n",
       "<style scoped>\n",
       "    .dataframe tbody tr th:only-of-type {\n",
       "        vertical-align: middle;\n",
       "    }\n",
       "\n",
       "    .dataframe tbody tr th {\n",
       "        vertical-align: top;\n",
       "    }\n",
       "\n",
       "    .dataframe thead th {\n",
       "        text-align: right;\n",
       "    }\n",
       "</style>\n",
       "<table border=\"1\" class=\"dataframe\">\n",
       "  <thead>\n",
       "    <tr style=\"text-align: right;\">\n",
       "      <th></th>\n",
       "      <th>race</th>\n",
       "      <th>arstmade</th>\n",
       "      <th>count</th>\n",
       "    </tr>\n",
       "  </thead>\n",
       "  <tbody>\n",
       "    <tr>\n",
       "      <th>2</th>\n",
       "      <td>B</td>\n",
       "      <td>N</td>\n",
       "      <td>5006</td>\n",
       "    </tr>\n",
       "    <tr>\n",
       "      <th>7</th>\n",
       "      <td>Q</td>\n",
       "      <td>N</td>\n",
       "      <td>2368</td>\n",
       "    </tr>\n",
       "    <tr>\n",
       "      <th>11</th>\n",
       "      <td>W</td>\n",
       "      <td>N</td>\n",
       "      <td>902</td>\n",
       "    </tr>\n",
       "    <tr>\n",
       "      <th>5</th>\n",
       "      <td>P</td>\n",
       "      <td>N</td>\n",
       "      <td>540</td>\n",
       "    </tr>\n",
       "    <tr>\n",
       "      <th>3</th>\n",
       "      <td>B</td>\n",
       "      <td>Y</td>\n",
       "      <td>336</td>\n",
       "    </tr>\n",
       "    <tr>\n",
       "      <th>0</th>\n",
       "      <td>A</td>\n",
       "      <td>N</td>\n",
       "      <td>279</td>\n",
       "    </tr>\n",
       "    <tr>\n",
       "      <th>13</th>\n",
       "      <td>Z</td>\n",
       "      <td>N</td>\n",
       "      <td>234</td>\n",
       "    </tr>\n",
       "    <tr>\n",
       "      <th>8</th>\n",
       "      <td>Q</td>\n",
       "      <td>Y</td>\n",
       "      <td>164</td>\n",
       "    </tr>\n",
       "    <tr>\n",
       "      <th>12</th>\n",
       "      <td>W</td>\n",
       "      <td>Y</td>\n",
       "      <td>72</td>\n",
       "    </tr>\n",
       "    <tr>\n",
       "      <th>9</th>\n",
       "      <td>U</td>\n",
       "      <td>N</td>\n",
       "      <td>66</td>\n",
       "    </tr>\n",
       "    <tr>\n",
       "      <th>4</th>\n",
       "      <td>I</td>\n",
       "      <td>N</td>\n",
       "      <td>37</td>\n",
       "    </tr>\n",
       "    <tr>\n",
       "      <th>6</th>\n",
       "      <td>P</td>\n",
       "      <td>Y</td>\n",
       "      <td>35</td>\n",
       "    </tr>\n",
       "    <tr>\n",
       "      <th>1</th>\n",
       "      <td>A</td>\n",
       "      <td>Y</td>\n",
       "      <td>20</td>\n",
       "    </tr>\n",
       "    <tr>\n",
       "      <th>14</th>\n",
       "      <td>Z</td>\n",
       "      <td>Y</td>\n",
       "      <td>16</td>\n",
       "    </tr>\n",
       "    <tr>\n",
       "      <th>10</th>\n",
       "      <td>U</td>\n",
       "      <td>Y</td>\n",
       "      <td>3</td>\n",
       "    </tr>\n",
       "  </tbody>\n",
       "</table>\n",
       "</div>"
      ],
      "text/plain": [
       "   race arstmade  count\n",
       "2     B        N   5006\n",
       "7     Q        N   2368\n",
       "11    W        N    902\n",
       "5     P        N    540\n",
       "3     B        Y    336\n",
       "0     A        N    279\n",
       "13    Z        N    234\n",
       "8     Q        Y    164\n",
       "12    W        Y     72\n",
       "9     U        N     66\n",
       "4     I        N     37\n",
       "6     P        Y     35\n",
       "1     A        Y     20\n",
       "14    Z        Y     16\n",
       "10    U        Y      3"
      ]
     },
     "execution_count": 14,
     "metadata": {},
     "output_type": "execute_result"
    }
   ],
   "source": [
    "#agrupar los datos para el grafico\n",
    "grouped_counts = filtered_df.groupby('race')['arstmade'].value_counts()\n",
    "grouped_counts = grouped_counts.reset_index().sort_values(by='count', ascending=False)\n",
    "grouped_counts"
   ]
  },
  {
   "cell_type": "code",
   "execution_count": 15,
   "metadata": {},
   "outputs": [
    {
     "data": {
      "text/plain": [
       "<seaborn.axisgrid.FacetGrid at 0x1fe34242c80>"
      ]
     },
     "execution_count": 15,
     "metadata": {},
     "output_type": "execute_result"
    },
    {
     "data": {
      "image/png": "[encoded data removed]",
      "text/plain": [
       "<Figure size 677.611x600 with 1 Axes>"
      ]
     },
     "metadata": {},
     "output_type": "display_data"
    }
   ],
   "source": [
    "g = sns.catplot(\n",
    "    data=grouped_counts, kind=\"bar\",\n",
    "    x=\"race\", y=\"count\", hue=\"arstmade\",\n",
    "    errorbar=\"sd\", palette=\"dark\", alpha=.6, height=6\n",
    ")\n",
    "g.despine(left=True)\n",
    "g.set_axis_labels(\"Race\", \"Procedures\")"
   ]
  },
  {
   "attachments": {},
   "cell_type": "markdown",
   "metadata": {},
   "source": [
    "Es observable la diferencia entre razas de los procedimientos realizados, en muchos casos puede ser el doble o mas las posibilidades de ser detenido dependiendo de la raza.\n",
    "Esto podria indicar al menos usando solo este dato que hay un alto sezgo de ser detenido solo usando esta variable, seria interesante observar como contrasta este dato con\n",
    "los otros si influye de alguna manera por ejemplo el lugar, edad o el tipo de procedimiento."
   ]
  },
  {
   "attachments": {},
   "cell_type": "markdown",
   "metadata": {},
   "source": [
    "5.- Determinar si el procedimiento policial concluirá en alguna acción violenta.\n",
    "Los atributos que tienen el prefijo pf (['pf_hands'],['pf_wall'], ['pf_grnd'],\n",
    "['pf_drwep'], ['pf_ptwep'],['pf_baton'],['pf_hcuff'], ['pf_pepsp'] y ['pf_other']) indican\n",
    "si hubo fuerza fisica utilizada por el oficial al momento del procedimiento, con la\n",
    "marca 'Y'.\n",
    "Genere una nueva variable llamada 'violencia' la cual sea 1 si en cualquiera de\n",
    "las 9 variables pf hubo alguna 'Y', y 0 en otro caso. Luego indique el porcentaje\n",
    "de casos que terminaron con violencia."
   ]
  },
  {
   "cell_type": "code",
   "execution_count": 31,
   "metadata": {},
   "outputs": [
    {
     "data": {
      "image/png": "[encoded data removed]",
      "text/plain": [
       "<Figure size 640x480 with 1 Axes>"
      ]
     },
     "metadata": {},
     "output_type": "display_data"
    }
   ],
   "source": [
    "#criterios de violencia\n",
    "#funcion para determinar si hubo accion violenta devuelve 1 sino devuelve 0\n",
    "def is_violent(row):\n",
    "    COLUMNS = ['pf_hands','pf_wall','pf_grnd','pf_drwep','pf_ptwep','pf_baton','pf_hcuff','pf_pepsp','pf_other']\n",
    "    for column in COLUMNS:\n",
    "        if row[column] == 'Y':\n",
    "            return 1\n",
    "    return 0\n",
    "\n",
    "filtered_df['violencia'] = filtered_df.apply(is_violent, axis=1)\n",
    "\n",
    "grouped_counts = filtered_df['violencia'].value_counts()\n",
    "\n",
    "total_count = grouped_counts.sum()\n",
    "percentages = (grouped_counts / total_count) * 100\n",
    "\n",
    "percentages_df = percentages.reset_index()\n",
    "percentages_df.columns = ['Value', 'Percentage']\n",
    "percentages_df['Value'] = percentages_df['Value'].replace({0: 'No', 1: 'Si'})\n",
    "\n",
    "plt.pie(percentages_df['Percentage'], labels=percentages_df['Value'], autopct='%1.1f%%')\n",
    "\n",
    "# Set title\n",
    "plt.title('Casos con violencia')\n",
    "\n",
    "# Display the plot\n",
    "plt.show()"
   ]
  }
 ],
 "metadata": {
  "kernelspec": {
   "display_name": ".venv",
   "language": "python",
   "name": "python3"
  },
  "language_info": {
   "codemirror_mode": {
    "name": "ipython",
    "version": 3
   },
   "file_extension": ".py",
   "mimetype": "text/x-python",
   "name": "python",
   "nbconvert_exporter": "python",
   "pygments_lexer": "ipython3",
   "version": "3.10.10"
  },
  "orig_nbformat": 4
 },
 "nbformat": 4,
 "nbformat_minor": 2
}
